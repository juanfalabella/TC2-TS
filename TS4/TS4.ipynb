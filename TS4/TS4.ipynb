{
 "cells": [
  {
   "cell_type": "markdown",
   "id": "a09a18b4",
   "metadata": {},
   "source": [
    "<div align=\"center\">\n",
    "    <h2>Tarea Semanal 4</h2>\n",
    "    <h1>Juan Ignacio Falabella</h1>  \n",
    "</div> \n",
    "\n",
    "![logoUTN](logoUTN.png \"UTN FRBA\")\n",
    "\n",
    "\n",
    "<div align=\"center\">\n",
    "    <h2>Entrega parcial 25/5. Entrega completa 10/07</h2>\n",
    "</div>  "
   ]
  },
  {
   "cell_type": "markdown",
   "id": "3b6af21c",
   "metadata": {},
   "source": [
    "\n",
    "### Se pide diseñar un filtro pasabanda que cumpla con la siguiente plantilla:\n",
    "\n",
    "$V_{2}/V_{1}$\n",
    "\n",
    "$ω_{0}=2π 22 kHz$\n",
    "\n",
    "$Q=5$\n",
    "\n",
    "Aproximación Chebyshev con ripple de 0,5 dB\n",
    "También se sabe que la transferencia del filtro debe ser:\n",
    "\n",
    "T(fS1)=-16 dB para $f_{S1}=17 kHz$\n",
    "\n",
    "T(fS2)=-24 dB para $f_{S2}=36 kHz$\n",
    "\n",
    "![ts4Foto1](ts4Foto1.png \"ts4Foto1\")\n",
    "\n",
    "Consignas de la actividad:\n",
    "\n",
    "👉  Obtener la plantilla de diseño pasabanda normalizada\n",
    "\n",
    "👉  Obtener la función transferencia normalizada del prototipo pasabajo que satisfaga el requerimiento del filtro pasabanda.\n",
    "\n",
    "👉  Obtener la transferencia pasabanda normalizada\n",
    "\n",
    "👉  Implementar mediante secciones pasivas separadas por seguidores de tensión activos.\n",
    "\n",
    "👉  Activar las redes pasivas mediante la red propuesta aquí debajo y comprobar mediante simulación el comportamiento deseado.\n",
    "\n",
    "\n",
    "\n",
    "![ts4Foto2](ts4Foto2.png \"ts4Foto2\")\n",
    "![ts4Foto3](ts4Foto3.png \"ts4Foto3\")\n",
    "![ts4Foto4](ts4Foto4.png \"ts4Foto4\")\n",
    "\n",
    "\n",
    "\n",
    "\n"
   ]
  },
  {
   "cell_type": "code",
   "execution_count": 5,
   "id": "2c850cef",
   "metadata": {},
   "outputs": [
    {
     "name": "stdout",
     "output_type": "stream",
     "text": [
      "Denominador primera SOS:\n",
      "S^2* 1.0 +S 0.06860842818931917 + 1.2089256032976787\n",
      "Denominador segunda SOS:\n",
      "S^2* 1.0 +S 0.056751571810680856 + 0.8271807605631167\n"
     ]
    }
   ],
   "source": [
    "from splane import pzmap, grpDelay, bodePlot, convert2SOS\n",
    "import math\n",
    "\n",
    "plt.close('all')\n",
    "\n",
    "Q=5\n",
    "num = [1.022,0,0]\n",
    "den = [Q**2,Q*0.6268,2*(Q**2)+1,Q*0.6268,Q**2]\n",
    "\n",
    "myFilter = sig.TransferFunction(num,den)\n",
    "\n",
    "SOSpolynomials = convert2SOS(myFilter)\n",
    "print(\"Denominador primera SOS:\")\n",
    "print(\"S^2*\",SOSpolynomials[0,0],\"+S\",SOSpolynomials[0,1],\"+\",SOSpolynomials[0,2])\n",
    "print(\"Denominador segunda SOS:\")\n",
    "print(\"S^2*\",SOSpolynomials[1,0],\"+S\",SOSpolynomials[1,1],\"+\",SOSpolynomials[1,2])\n",
    "\n"
   ]
  },
  {
   "cell_type": "markdown",
   "id": "9c6d85a5",
   "metadata": {},
   "source": [
    "![ts4Foto5](ts4Foto5.png \"ts4Foto5\")\n",
    "![ts4Foto6](ts4Foto6.png \"ts4Foto6\")\n",
    "![ts4Foto7](ts4Foto7.png \"ts4Foto7\")\n",
    "\n",
    "Como se puede observar en la simulacion, ambas salidas son idénticas."
   ]
  },
  {
   "cell_type": "code",
   "execution_count": null,
   "id": "228dd141",
   "metadata": {},
   "outputs": [],
   "source": []
  }
 ],
 "metadata": {
  "kernelspec": {
   "display_name": "Python 3 (ipykernel)",
   "language": "python",
   "name": "python3"
  },
  "language_info": {
   "codemirror_mode": {
    "name": "ipython",
    "version": 3
   },
   "file_extension": ".py",
   "mimetype": "text/x-python",
   "name": "python",
   "nbconvert_exporter": "python",
   "pygments_lexer": "ipython3",
   "version": "3.8.10"
  }
 },
 "nbformat": 4,
 "nbformat_minor": 5
}
